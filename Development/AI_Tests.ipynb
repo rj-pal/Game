{
 "cells": [
  {
   "cell_type": "code",
   "execution_count": 3,
   "id": "702cc937",
   "metadata": {},
   "outputs": [],
   "source": [
    "import sys\n",
    "import os\n",
    "\n",
    "parent_dir = os.path.abspath(os.path.join(os.getcwd(), os.pardir))\n",
    "sys.path.append(parent_dir)"
   ]
  },
  {
   "cell_type": "code",
   "execution_count": 5,
   "id": "8c0dbea2-362e-4f46-8111-56db66ab5519",
   "metadata": {},
   "outputs": [],
   "source": [
    "import tictactoe as tt"
   ]
  },
  {
   "cell_type": "code",
   "execution_count": 6,
   "id": "97e4977d-a427-4eb5-8fbb-67f4a75aed18",
   "metadata": {},
   "outputs": [
    {
     "name": "stdout",
     "output_type": "stream",
     "text": [
      "\n",
      "###################################################################################\n",
      "#                                                                                 #\n",
      "#                                 X: Computer Easy                                #\n",
      "#                         Win: 0, Loss: 18466, Draw: 1534                         #\n",
      "#                                                                                 #\n",
      "#                                                                                 #\n",
      "#                              O: Computer Hard Mode                              #\n",
      "#                         Win: 18466, Loss: 0, Draw: 1534                         #\n",
      "#                                                                                 #\n",
      "###################################################################################\n",
      "\n"
     ]
    }
   ],
   "source": [
    "test_easy = tt.TestGames()\n",
    "test_easy.start_test('easy', 20000)"
   ]
  },
  {
   "cell_type": "code",
   "execution_count": 7,
   "id": "f5df553a-0102-4156-b3e8-0b75942ddd01",
   "metadata": {},
   "outputs": [
    {
     "name": "stdout",
     "output_type": "stream",
     "text": [
      "\n",
      "###################################################################################\n",
      "#                                                                                 #\n",
      "#                             X: Computer Intermediate                            #\n",
      "#                         Win: 0, Loss: 9139, Draw: 10861                         #\n",
      "#                                                                                 #\n",
      "#                                                                                 #\n",
      "#                              O: Computer Hard Mode                              #\n",
      "#                         Win: 9139, Loss: 0, Draw: 10861                         #\n",
      "#                                                                                 #\n",
      "###################################################################################\n",
      "\n"
     ]
    }
   ],
   "source": [
    "test_int = tt.TestGames()\n",
    "test_int.start_test('intermediate', 20000)"
   ]
  },
  {
   "cell_type": "code",
   "execution_count": 8,
   "id": "cac4c6b3-473f-4402-9080-d8e2632869b7",
   "metadata": {},
   "outputs": [
    {
     "name": "stdout",
     "output_type": "stream",
     "text": [
      "\n",
      "################################################################################\n",
      "#                                                                              #\n",
      "#                               X: Computer Hard                               #\n",
      "#                         Win: 0, Loss: 0, Draw: 20000                         #\n",
      "#                                                                              #\n",
      "#                                                                              #\n",
      "#                            O: Computer Hard Mode                             #\n",
      "#                         Win: 0, Loss: 0, Draw: 20000                         #\n",
      "#                                                                              #\n",
      "################################################################################\n",
      "\n"
     ]
    }
   ],
   "source": [
    "test_hard = tt.TestGames()\n",
    "test_hard.start_test('hard', 20000)"
   ]
  },
  {
   "cell_type": "code",
   "execution_count": null,
   "id": "8a3d2033-77ab-4c13-8e53-6a25e2340f00",
   "metadata": {},
   "outputs": [],
   "source": []
  }
 ],
 "metadata": {
  "kernelspec": {
   "display_name": "pythonlatest",
   "language": "python",
   "name": "pythonlatest"
  },
  "language_info": {
   "codemirror_mode": {
    "name": "ipython",
    "version": 3
   },
   "file_extension": ".py",
   "mimetype": "text/x-python",
   "name": "python",
   "nbconvert_exporter": "python",
   "pygments_lexer": "ipython3",
   "version": "3.12.3"
  }
 },
 "nbformat": 4,
 "nbformat_minor": 5
}
