{
 "cells": [
  {
   "cell_type": "code",
   "execution_count": 3,
   "id": "6a1cee15-9dd0-463f-9fbf-03d4860ae8a8",
   "metadata": {},
   "outputs": [],
   "source": [
    "# Each row is printed one at at a time by zippping 5 lists: 3 squares and 2 vertical lines\n",
    "# Each row is labelled postions and will be updated using the update \n",
    "# Each sqaure is 12 spaces wide and 8 spaces long\n",
    "# Default square is blank and can be updated to an ex or oh depending on the move\n",
    "vertical = [\"*\", \"*\", \"*\", \"*\", \"*\", \"*\", \"*\", \"*\"]\n",
    "blank = [\"            \", \"            \", \"            \", \"            \", \"            \", \"            \", \"            \",  \"            \"]\n",
    "oh = [\"            \", \"    ****    \", \"  *      *  \", \"  *      *  \", \"  *      *  \", \"    ****    \", \"            \"]\n",
    "ex = [\"            \", \"  *       * \", \"    *   *   \", \"      *     \", \"    *   *   \", \"  *       * \", \"            \"]\n",
    "line = \"* * * * * * * * * * * * * * * * * * * * * *\"\n",
    "\n",
    "    \n",
    "class Board:\n",
    "    \n",
    "    def __init__(self):\n",
    "        \n",
    "        self.top_positions = [blank, vertical, blank, vertical, blank]\n",
    "        self.middle_positions = [blank, vertical, blank, vertical, blank]\n",
    "        self.bottom_positions = [blank, vertical, blank, vertical, blank]\n",
    "        \n",
    "        self.positions = [self.top_positions, self.middle_positions, self.bottom_positions]\n",
    "        \n",
    "    def update_row(self, row: int, column: int, marker: int) -> None:\n",
    "        \n",
    "        square_value = oh\n",
    "        if marker == 1:\n",
    "            square_value = ex\n",
    "        elif marker == 0:\n",
    "            square_value = blank\n",
    "            \n",
    "        column = column * 2\n",
    "        \n",
    "        if row == 0:\n",
    "            self.top_positions[column] = square_value\n",
    "        elif row == 1: \n",
    "            self.middle_positions[column] = square_value\n",
    "        else:\n",
    "            self.bottom_positions[column] = square_value\n",
    "        \n",
    "    \n",
    "    def print_line(self, positions):\n",
    "        squares = list(zip(*positions))\n",
    "        for square in squares:\n",
    "            print(square[0], square[1], square[2], square[3], square[4])        \n",
    "    \n",
    "    def print_board(self):\n",
    "        for index, position in enumerate(self.positions):\n",
    "            self.print_line(position)\n",
    "            if index != 2:\n",
    "                print(line)\n",
    "                \n",
    "    def reset_board(self):\n",
    "        for i in range(3):\n",
    "            for j in range(3):\n",
    "                self.update_row(i, j, 0)\n",
    "#         for row in self.positions:\n",
    "#             for i in range(0, 5, 2):\n",
    "#                 row[i] = blank\n",
    "                "
   ]
  },
  {
   "cell_type": "code",
   "execution_count": 4,
   "id": "02c3bbcf-383b-4ea6-8863-69daaf82eae9",
   "metadata": {},
   "outputs": [],
   "source": [
    "# 0 is empty, 1 is ex, and 2 is oh\n",
    "# squares = [[0, 0, 0], [0, 0, 0], [0, 0, 0]]\n",
    "default_squares = [[0, 0, 0], [0, 0, 0], [0, 0, 0]]\n",
    "\n",
    "class Player:\n",
    "    \n",
    "    # marker must be 1 or 2\n",
    "    def __init__(self, name, marker):\n",
    "        self.name = name\n",
    "        self.marker = marker\n",
    "        self.win_count = 0\n",
    "        \n",
    "    def get_marker_type(self):\n",
    "        if self.marker == 1:\n",
    "            return \"Ex\"\n",
    "        elif self.marker == 2:\n",
    "            return \"Oh\"\n",
    "        else:\n",
    "            return \"Unknown maker for tic-tac-toe\"\n",
    "        \n",
    "    @classmethod\n",
    "    def construct_player(cls, name, marker):\n",
    "        \n",
    "        if type(name) is not str:\n",
    "            print(\"Error\")\n",
    "            return\n",
    "        \n",
    "        if type(marker) is not int:\n",
    "            print(\"Error\")\n",
    "            return\n",
    "        \n",
    "        return Player(name, marker)\n",
    "    \n",
    "class Game:\n",
    "    \n",
    "    def __init__(self, player_1, player_2):\n",
    "        self.is_over = False\n",
    "        self.squares = [[0, 0, 0], [0, 0, 0], [0, 0, 0]]\n",
    "        self.player_1 = player_1\n",
    "        self.player_2 = player_2\n",
    "        self.game_board = Board()\n",
    "\n",
    "    \n",
    "    def is_free(self, row, column):\n",
    "\n",
    "        return self.squares[row][column] == 0\n",
    "\n",
    "\n",
    "    def reset_squares(self) -> None:\n",
    "        self.squares = default_squares\n",
    "\n",
    "        \n",
    "    def update_square(self, row: int, column: int, marker: int) -> None:   \n",
    "        self.squares[row][column] = marker\n",
    "\n",
    "        \n",
    "    def take_turn(self, player) -> tuple:  \n",
    "        row, column = self.enter_square()\n",
    "        ex_or_oh = player.marker\n",
    "        \n",
    "        self.update_square(row, column, ex_or_oh)\n",
    "        \n",
    "        self.game_board.update_row(row, column, ex_or_oh)\n",
    "        \n",
    "        self.game_board.print_board()\n",
    "\n",
    "#         marker = 1\n",
    "#         if player == oh:\n",
    "#             marker = 2\n",
    "#             update_square(row, column, marker)\n",
    "#         else:\n",
    "#             update_square(row, column, marker)\n",
    "\n",
    "#         return row, column, marker\n",
    "\n",
    "\n",
    "    def enter_square(self) -> tuple:   \n",
    "        while True:  \n",
    "            valid_input = {1, 2, 3}\n",
    "            row = int(input(\"Enter the row: \"))\n",
    "            if row not in valid_input:\n",
    "                print(\"You must enter 1, 2, or 3 only for the row. Start again.\")\n",
    "                continue\n",
    "            column = int(input(\"Enter the column: \"))\n",
    "\n",
    "            if column not in valid_input:\n",
    "                print(\"You must enter 1, 2, or 3 only for the column. Start again\")\n",
    "                continue\n",
    "\n",
    "            row = row - 1\n",
    "            column = column - 1\n",
    "\n",
    "            if self.is_free(row, column):\n",
    "                break\n",
    "            else:\n",
    "                print(\"The square is already occupied. Start again\")\n",
    "\n",
    "        return row, column        "
   ]
  },
  {
   "cell_type": "code",
   "execution_count": 5,
   "id": "b05928ff-3d9e-4199-8ac3-ba0e60fdc943",
   "metadata": {},
   "outputs": [],
   "source": [
    "\n",
    "a = Player.construct_player(\"me\", 2)\n",
    "aa = Player.construct_player(\"you\", 1)\n",
    "\n",
    "g = Game(a, aa)\n",
    "# g.game_board.reset_board()\n"
   ]
  },
  {
   "cell_type": "code",
   "execution_count": 6,
   "id": "0d2eb030-4056-4388-b909-76ed502e2846",
   "metadata": {},
   "outputs": [
    {
     "name": "stdin",
     "output_type": "stream",
     "text": [
      "Enter the row:  1\n",
      "Enter the column:  1\n"
     ]
    },
    {
     "name": "stdout",
     "output_type": "stream",
     "text": [
      "             *              *             \n",
      "    ****     *              *             \n",
      "  *      *   *              *             \n",
      "  *      *   *              *             \n",
      "  *      *   *              *             \n",
      "    ****     *              *             \n",
      "             *              *             \n",
      "* * * * * * * * * * * * * * * * * * * * * *\n",
      "             *              *             \n",
      "             *              *             \n",
      "             *              *             \n",
      "             *              *             \n",
      "             *              *             \n",
      "             *              *             \n",
      "             *              *             \n",
      "             *              *             \n",
      "* * * * * * * * * * * * * * * * * * * * * *\n",
      "             *              *             \n",
      "             *              *             \n",
      "             *              *             \n",
      "             *              *             \n",
      "             *              *             \n",
      "             *              *             \n",
      "             *              *             \n",
      "             *              *             \n"
     ]
    },
    {
     "name": "stdin",
     "output_type": "stream",
     "text": [
      "Enter the row:  1\n",
      "Enter the column:  2\n"
     ]
    },
    {
     "name": "stdout",
     "output_type": "stream",
     "text": [
      "             *              *             \n",
      "    ****     *   *       *  *             \n",
      "  *      *   *     *   *    *             \n",
      "  *      *   *       *      *             \n",
      "  *      *   *     *   *    *             \n",
      "    ****     *   *       *  *             \n",
      "             *              *             \n",
      "* * * * * * * * * * * * * * * * * * * * * *\n",
      "             *              *             \n",
      "             *              *             \n",
      "             *              *             \n",
      "             *              *             \n",
      "             *              *             \n",
      "             *              *             \n",
      "             *              *             \n",
      "             *              *             \n",
      "* * * * * * * * * * * * * * * * * * * * * *\n",
      "             *              *             \n",
      "             *              *             \n",
      "             *              *             \n",
      "             *              *             \n",
      "             *              *             \n",
      "             *              *             \n",
      "             *              *             \n",
      "             *              *             \n"
     ]
    },
    {
     "name": "stdin",
     "output_type": "stream",
     "text": [
      "Enter the row:  2\n",
      "Enter the column:  2\n"
     ]
    },
    {
     "name": "stdout",
     "output_type": "stream",
     "text": [
      "             *              *             \n",
      "    ****     *   *       *  *             \n",
      "  *      *   *     *   *    *             \n",
      "  *      *   *       *      *             \n",
      "  *      *   *     *   *    *             \n",
      "    ****     *   *       *  *             \n",
      "             *              *             \n",
      "* * * * * * * * * * * * * * * * * * * * * *\n",
      "             *              *             \n",
      "             *     ****     *             \n",
      "             *   *      *   *             \n",
      "             *   *      *   *             \n",
      "             *   *      *   *             \n",
      "             *     ****     *             \n",
      "             *              *             \n",
      "* * * * * * * * * * * * * * * * * * * * * *\n",
      "             *              *             \n",
      "             *              *             \n",
      "             *              *             \n",
      "             *              *             \n",
      "             *              *             \n",
      "             *              *             \n",
      "             *              *             \n",
      "             *              *             \n"
     ]
    },
    {
     "name": "stdin",
     "output_type": "stream",
     "text": [
      "Enter the row:  3\n",
      "Enter the column:  3\n"
     ]
    },
    {
     "name": "stdout",
     "output_type": "stream",
     "text": [
      "             *              *             \n",
      "    ****     *   *       *  *             \n",
      "  *      *   *     *   *    *             \n",
      "  *      *   *       *      *             \n",
      "  *      *   *     *   *    *             \n",
      "    ****     *   *       *  *             \n",
      "             *              *             \n",
      "* * * * * * * * * * * * * * * * * * * * * *\n",
      "             *              *             \n",
      "             *     ****     *             \n",
      "             *   *      *   *             \n",
      "             *   *      *   *             \n",
      "             *   *      *   *             \n",
      "             *     ****     *             \n",
      "             *              *             \n",
      "* * * * * * * * * * * * * * * * * * * * * *\n",
      "             *              *             \n",
      "             *              *   *       * \n",
      "             *              *     *   *   \n",
      "             *              *       *     \n",
      "             *              *     *   *   \n",
      "             *              *   *       * \n",
      "             *              *             \n"
     ]
    },
    {
     "name": "stdin",
     "output_type": "stream",
     "text": [
      "Enter the row:  3\n",
      "Enter the column:  3\n"
     ]
    },
    {
     "name": "stdout",
     "output_type": "stream",
     "text": [
      "The square is already occupied. Start again\n"
     ]
    },
    {
     "name": "stdin",
     "output_type": "stream",
     "text": [
      "Enter the row:  1\n",
      "Enter the column:  2\n"
     ]
    },
    {
     "name": "stdout",
     "output_type": "stream",
     "text": [
      "The square is already occupied. Start again\n"
     ]
    },
    {
     "name": "stdin",
     "output_type": "stream",
     "text": [
      "Enter the row:  2\n",
      "Enter the column:  2\n"
     ]
    },
    {
     "name": "stdout",
     "output_type": "stream",
     "text": [
      "The square is already occupied. Start again\n"
     ]
    },
    {
     "name": "stdin",
     "output_type": "stream",
     "text": [
      "Enter the row:  1\n",
      "Enter the column:  3\n"
     ]
    },
    {
     "name": "stdout",
     "output_type": "stream",
     "text": [
      "             *              *             \n",
      "    ****     *   *       *  *     ****    \n",
      "  *      *   *     *   *    *   *      *  \n",
      "  *      *   *       *      *   *      *  \n",
      "  *      *   *     *   *    *   *      *  \n",
      "    ****     *   *       *  *     ****    \n",
      "             *              *             \n",
      "* * * * * * * * * * * * * * * * * * * * * *\n",
      "             *              *             \n",
      "             *     ****     *             \n",
      "             *   *      *   *             \n",
      "             *   *      *   *             \n",
      "             *   *      *   *             \n",
      "             *     ****     *             \n",
      "             *              *             \n",
      "* * * * * * * * * * * * * * * * * * * * * *\n",
      "             *              *             \n",
      "             *              *   *       * \n",
      "             *              *     *   *   \n",
      "             *              *       *     \n",
      "             *              *     *   *   \n",
      "             *              *   *       * \n",
      "             *              *             \n"
     ]
    },
    {
     "name": "stdin",
     "output_type": "stream",
     "text": [
      "Enter the row:  2\n",
      "Enter the column:  1\n"
     ]
    },
    {
     "name": "stdout",
     "output_type": "stream",
     "text": [
      "             *              *             \n",
      "    ****     *   *       *  *     ****    \n",
      "  *      *   *     *   *    *   *      *  \n",
      "  *      *   *       *      *   *      *  \n",
      "  *      *   *     *   *    *   *      *  \n",
      "    ****     *   *       *  *     ****    \n",
      "             *              *             \n",
      "* * * * * * * * * * * * * * * * * * * * * *\n",
      "             *              *             \n",
      "  *       *  *     ****     *             \n",
      "    *   *    *   *      *   *             \n",
      "      *      *   *      *   *             \n",
      "    *   *    *   *      *   *             \n",
      "  *       *  *     ****     *             \n",
      "             *              *             \n",
      "* * * * * * * * * * * * * * * * * * * * * *\n",
      "             *              *             \n",
      "             *              *   *       * \n",
      "             *              *     *   *   \n",
      "             *              *       *     \n",
      "             *              *     *   *   \n",
      "             *              *   *       * \n",
      "             *              *             \n"
     ]
    },
    {
     "name": "stdin",
     "output_type": "stream",
     "text": [
      "Enter the row:  3\n",
      "Enter the column:  2\n"
     ]
    },
    {
     "name": "stdout",
     "output_type": "stream",
     "text": [
      "             *              *             \n",
      "    ****     *   *       *  *     ****    \n",
      "  *      *   *     *   *    *   *      *  \n",
      "  *      *   *       *      *   *      *  \n",
      "  *      *   *     *   *    *   *      *  \n",
      "    ****     *   *       *  *     ****    \n",
      "             *              *             \n",
      "* * * * * * * * * * * * * * * * * * * * * *\n",
      "             *              *             \n",
      "  *       *  *     ****     *             \n",
      "    *   *    *   *      *   *             \n",
      "      *      *   *      *   *             \n",
      "    *   *    *   *      *   *             \n",
      "  *       *  *     ****     *             \n",
      "             *              *             \n",
      "* * * * * * * * * * * * * * * * * * * * * *\n",
      "             *              *             \n",
      "             *     ****     *   *       * \n",
      "             *   *      *   *     *   *   \n",
      "             *   *      *   *       *     \n",
      "             *   *      *   *     *   *   \n",
      "             *     ****     *   *       * \n",
      "             *              *             \n"
     ]
    },
    {
     "name": "stdin",
     "output_type": "stream",
     "text": [
      "Enter the row:  3\n",
      "Enter the column:  1\n"
     ]
    },
    {
     "name": "stdout",
     "output_type": "stream",
     "text": [
      "             *              *             \n",
      "    ****     *   *       *  *     ****    \n",
      "  *      *   *     *   *    *   *      *  \n",
      "  *      *   *       *      *   *      *  \n",
      "  *      *   *     *   *    *   *      *  \n",
      "    ****     *   *       *  *     ****    \n",
      "             *              *             \n",
      "* * * * * * * * * * * * * * * * * * * * * *\n",
      "             *              *             \n",
      "  *       *  *     ****     *             \n",
      "    *   *    *   *      *   *             \n",
      "      *      *   *      *   *             \n",
      "    *   *    *   *      *   *             \n",
      "  *       *  *     ****     *             \n",
      "             *              *             \n",
      "* * * * * * * * * * * * * * * * * * * * * *\n",
      "             *              *             \n",
      "  *       *  *     ****     *   *       * \n",
      "    *   *    *   *      *   *     *   *   \n",
      "      *      *   *      *   *       *     \n",
      "    *   *    *   *      *   *     *   *   \n",
      "  *       *  *     ****     *   *       * \n",
      "             *              *             \n"
     ]
    },
    {
     "name": "stdin",
     "output_type": "stream",
     "text": [
      "Enter the row:  2\n",
      "Enter the column:  3\n"
     ]
    },
    {
     "name": "stdout",
     "output_type": "stream",
     "text": [
      "             *              *             \n",
      "    ****     *   *       *  *     ****    \n",
      "  *      *   *     *   *    *   *      *  \n",
      "  *      *   *       *      *   *      *  \n",
      "  *      *   *     *   *    *   *      *  \n",
      "    ****     *   *       *  *     ****    \n",
      "             *              *             \n",
      "* * * * * * * * * * * * * * * * * * * * * *\n",
      "             *              *             \n",
      "  *       *  *     ****     *     ****    \n",
      "    *   *    *   *      *   *   *      *  \n",
      "      *      *   *      *   *   *      *  \n",
      "    *   *    *   *      *   *   *      *  \n",
      "  *       *  *     ****     *     ****    \n",
      "             *              *             \n",
      "* * * * * * * * * * * * * * * * * * * * * *\n",
      "             *              *             \n",
      "  *       *  *     ****     *   *       * \n",
      "    *   *    *   *      *   *     *   *   \n",
      "      *      *   *      *   *       *     \n",
      "    *   *    *   *      *   *     *   *   \n",
      "  *       *  *     ****     *   *       * \n",
      "             *              *             \n"
     ]
    }
   ],
   "source": [
    "for i in range(9):\n",
    "    if i % 2 == 0:\n",
    "        g.take_turn(g.player_1)\n",
    "    else:\n",
    "        g.take_turn(g.player_2)\n"
   ]
  },
  {
   "cell_type": "code",
   "execution_count": 40,
   "id": "1c4c3057-d487-416d-9755-e1bfae86c416",
   "metadata": {},
   "outputs": [
    {
     "name": "stdout",
     "output_type": "stream",
     "text": [
      "             *              *             \n",
      "             *              *             \n",
      "             *              *             \n",
      "             *              *             \n",
      "             *              *             \n",
      "             *              *             \n",
      "             *              *             \n",
      "             *              *             \n",
      "* * * * * * * * * * * * * * * * * * * * * *\n",
      "             *              *             \n",
      "             *              *             \n",
      "             *              *             \n",
      "             *              *             \n",
      "             *              *             \n",
      "             *              *             \n",
      "             *              *             \n",
      "             *              *             \n",
      "* * * * * * * * * * * * * * * * * * * * * *\n",
      "             *              *             \n",
      "             *              *             \n",
      "             *              *             \n",
      "             *              *             \n",
      "             *              *             \n",
      "             *              *             \n",
      "             *              *             \n",
      "             *              *             \n"
     ]
    }
   ],
   "source": [
    "# b = Board()\n",
    "\n",
    "# for i in range(2):\n",
    "#     if i % 2 == 0:\n",
    "#         r, c, m = take_turn(ex)\n",
    "#         b.update_row(r, c, m)\n",
    "#         b.print_board()\n",
    "#     else:\n",
    "#         r, c, m = take_turn(oh)\n",
    "#         b.update_row(r, c, m)\n",
    "#         b.print_board()\n",
    "        \n",
    "b.reset_board()\n",
    "b.print_board()"
   ]
  },
  {
   "cell_type": "code",
   "execution_count": 15,
   "id": "5d5cff99-f1ce-4910-a918-9e5843c2d33e",
   "metadata": {},
   "outputs": [
    {
     "data": {
      "text/plain": [
       "[['            ',\n",
       "  '            ',\n",
       "  '            ',\n",
       "  '            ',\n",
       "  '            ',\n",
       "  '            ',\n",
       "  '            ',\n",
       "  '            '],\n",
       " ['*', '*', '*', '*', '*', '*', '*', '*'],\n",
       " ['            ',\n",
       "  '            ',\n",
       "  '            ',\n",
       "  '            ',\n",
       "  '            ',\n",
       "  '            ',\n",
       "  '            ',\n",
       "  '            '],\n",
       " ['*', '*', '*', '*', '*', '*', '*', '*'],\n",
       " ['            ',\n",
       "  '            ',\n",
       "  '            ',\n",
       "  '            ',\n",
       "  '            ',\n",
       "  '            ',\n",
       "  '            ',\n",
       "  '            ']]"
      ]
     },
     "execution_count": 15,
     "metadata": {},
     "output_type": "execute_result"
    }
   ],
   "source": [
    "# b.update_row(0, 1, 2)\n",
    "b.top_positions"
   ]
  },
  {
   "cell_type": "code",
   "execution_count": 16,
   "id": "9155f334-0528-434a-92c4-5508b6aa59ea",
   "metadata": {},
   "outputs": [
    {
     "name": "stdout",
     "output_type": "stream",
     "text": [
      "             *              *             \n",
      "  *       *  *              *             \n",
      "    *   *    *              *             \n",
      "      *      *              *             \n",
      "    *   *    *              *             \n",
      "  *       *  *              *             \n",
      "             *              *             \n",
      "* * * * * * * * * * * * * * * * * * * * * *\n",
      "             *              *             \n",
      "             *     ****     *             \n",
      "             *   *      *   *             \n",
      "             *   *      *   *             \n",
      "             *   *      *   *             \n",
      "             *     ****     *             \n",
      "             *              *             \n",
      "* * * * * * * * * * * * * * * * * * * * * *\n",
      "             *              *             \n",
      "             *              *             \n",
      "             *              *             \n",
      "             *              *             \n",
      "             *              *             \n",
      "             *              *             \n",
      "             *              *             \n",
      "             *              *             \n"
     ]
    }
   ],
   "source": [
    "# b.reset_board()\n",
    "b.print_board()\n",
    "# b.positions"
   ]
  },
  {
   "cell_type": "code",
   "execution_count": 14,
   "id": "14434c73-2905-4e98-a33b-0c804fedcc02",
   "metadata": {},
   "outputs": [
    {
     "name": "stdout",
     "output_type": "stream",
     "text": [
      "             *              *             \n",
      "  *       *  *              *             \n",
      "    *   *    *              *             \n",
      "      *      *              *             \n",
      "    *   *    *              *             \n",
      "  *       *  *              *             \n",
      "             *              *             \n",
      "* * * * * * * * * * * * * * * * * * * * * *\n",
      "             *              *             \n",
      "             *     ****     *             \n",
      "             *   *      *   *             \n",
      "             *   *      *   *             \n",
      "             *   *      *   *             \n",
      "             *     ****     *             \n",
      "             *              *             \n",
      "* * * * * * * * * * * * * * * * * * * * * *\n",
      "             *              *             \n",
      "             *              *             \n",
      "             *              *             \n",
      "             *              *             \n",
      "             *              *             \n",
      "             *              *             \n",
      "             *              *             \n",
      "             *              *             \n"
     ]
    }
   ],
   "source": [
    "b.reset_board()\n",
    "b.print_board()"
   ]
  },
  {
   "cell_type": "code",
   "execution_count": 14,
   "id": "b7987480-f2a8-4131-9d5f-084821475e28",
   "metadata": {},
   "outputs": [
    {
     "name": "stdin",
     "output_type": "stream",
     "text": [
      "Enter the row:  2\n",
      "Enter the column:  2\n"
     ]
    },
    {
     "name": "stdout",
     "output_type": "stream",
     "text": [
      "             *              *             \n",
      "             *              *             \n",
      "             *              *             \n",
      "             *              *             \n",
      "             *              *             \n",
      "             *              *             \n",
      "             *              *             \n",
      "             *              *             \n",
      "* * * * * * * * * * * * * * * * * * * * * *\n",
      "             *              *             \n",
      "             *     ****     *             \n",
      "             *   *      *   *             \n",
      "             *   *      *   *             \n",
      "             *   *      *   *             \n",
      "             *     ****     *             \n",
      "             *              *             \n",
      "* * * * * * * * * * * * * * * * * * * * * *\n",
      "             *              *             \n",
      "             *              *             \n",
      "             *              *             \n",
      "             *              *             \n",
      "             *              *             \n",
      "             *              *             \n",
      "             *              *             \n",
      "             *              *             \n"
     ]
    }
   ],
   "source": [
    "b = Board()\n",
    "# b.print_board()\n",
    "# b.update_row(2,2,1)\n",
    "# b.print_board()\n",
    "\n",
    "r, c = enter_square()\n",
    "b.update_row(r, c, 0)\n",
    "b.print_board()"
   ]
  },
  {
   "cell_type": "code",
   "execution_count": 55,
   "id": "f50a882c-a95b-45d1-9f3a-4fbdcf243d95",
   "metadata": {},
   "outputs": [
    {
     "name": "stdin",
     "output_type": "stream",
     "text": [
      "Enter the row:  3\n",
      "Enter the column:  3\n"
     ]
    },
    {
     "name": "stdout",
     "output_type": "stream",
     "text": [
      "2 2\n",
      "['            ', '    ****    ', '  *      *  ', '  *      *  ', '  *      *  ', '    ****    ', '            ']\n",
      "             *              *             \n",
      "    ****     *              *             \n",
      "  *      *   *              *             \n",
      "  *      *   *              *             \n",
      "  *      *   *              *             \n",
      "    ****     *              *             \n",
      "             *              *             \n",
      "* * * * * * * * * * * * * * * * * * * * * *\n",
      "             *              *             \n",
      "             *              *             \n",
      "             *              *             \n",
      "             *              *             \n",
      "             *              *             \n",
      "             *              *             \n",
      "             *              *             \n",
      "             *              *             \n",
      "* * * * * * * * * * * * * * * * * * * * * *\n",
      "             *              *             \n",
      "             *              *     ****    \n",
      "             *              *   *      *  \n",
      "             *              *   *      *  \n",
      "             *              *   *      *  \n",
      "             *              *     ****    \n",
      "             *              *             \n"
     ]
    }
   ],
   "source": [
    "r, c = enter_square()\n",
    "b.update_row(r, c, 0)\n",
    "b.print_board()"
   ]
  },
  {
   "cell_type": "code",
   "execution_count": 29,
   "id": "cd70a19f-e2d6-4a01-a865-c6937c35a279",
   "metadata": {},
   "outputs": [
    {
     "name": "stdout",
     "output_type": "stream",
     "text": [
      "             *              *             \n",
      "             *     ****     *             \n",
      "             *   *      *   *             \n",
      "             *   *      *   *             \n",
      "             *   *      *   *             \n",
      "             *     ****     *             \n",
      "             *              *             \n",
      "* * * * * * * * * * * * * * * * * * * * * *\n",
      "             *              *             \n",
      "             *              *             \n",
      "             *              *             \n",
      "             *              *             \n",
      "             *              *             \n",
      "             *              *             \n",
      "             *              *             \n",
      "             *              *             \n",
      "* * * * * * * * * * * * * * * * * * * * * *\n",
      "             *              *             \n",
      "             *              *             \n",
      "             *              *             \n",
      "             *              *             \n",
      "             *              *             \n",
      "             *              *             \n",
      "             *              *             \n",
      "             *              *             \n"
     ]
    }
   ],
   "source": [
    "# b = Board()\n",
    "# b.print_board()\n",
    "# b.update_row(2,2,1)\n",
    "b.print_board()"
   ]
  },
  {
   "cell_type": "code",
   "execution_count": 22,
   "id": "5eb0bbc2-eab6-456f-9c4d-b89125929931",
   "metadata": {},
   "outputs": [
    {
     "name": "stdout",
     "output_type": "stream",
     "text": [
      "[[1, 1, 0], [0, 1, 0], [1, 0, 1]]\n"
     ]
    }
   ],
   "source": [
    "print(squares)"
   ]
  },
  {
   "cell_type": "code",
   "execution_count": null,
   "id": "7d0a2a9e-8bb6-4762-97bf-38b8bdb7b140",
   "metadata": {},
   "outputs": [],
   "source": [
    "    "
   ]
  },
  {
   "cell_type": "code",
   "execution_count": null,
   "id": "550e54e5-861f-42ba-92d1-a8f98666818c",
   "metadata": {},
   "outputs": [],
   "source": []
  },
  {
   "cell_type": "code",
   "execution_count": null,
   "id": "edaba9f6-dce2-4420-823f-224473d8bdf5",
   "metadata": {},
   "outputs": [],
   "source": [
    "len(line)"
   ]
  },
  {
   "cell_type": "code",
   "execution_count": null,
   "id": "ef4923b7-ea1f-4864-afaa-8f2810ed5663",
   "metadata": {},
   "outputs": [],
   "source": [
    "len(blank[0])"
   ]
  },
  {
   "cell_type": "code",
   "execution_count": null,
   "id": "49fe38db-e0ac-4166-b593-88f8a09ca808",
   "metadata": {},
   "outputs": [],
   "source": []
  }
 ],
 "metadata": {
  "kernelspec": {
   "display_name": "the_way",
   "language": "python",
   "name": "the_way"
  },
  "language_info": {
   "codemirror_mode": {
    "name": "ipython",
    "version": 3
   },
   "file_extension": ".py",
   "mimetype": "text/x-python",
   "name": "python",
   "nbconvert_exporter": "python",
   "pygments_lexer": "ipython3",
   "version": "3.7.11"
  }
 },
 "nbformat": 4,
 "nbformat_minor": 5
}
