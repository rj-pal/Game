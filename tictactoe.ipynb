{
 "cells": [
  {
   "cell_type": "code",
   "execution_count": 1,
   "id": "61a2b068-11d0-468d-9ebd-047f86a5fbf3",
   "metadata": {},
   "outputs": [
    {
     "name": "stdout",
     "output_type": "stream",
     "text": [
      "8\n",
      "             *              *             \n",
      "             *              *             \n",
      "             *              *             \n",
      "             *              *             \n",
      "             *              *             \n",
      "             *              *             \n",
      "             *              *             \n",
      "             *              *             \n",
      "* * * * * * * * * * * * * * * * * * * * * *\n",
      "             *              *             \n",
      "    ****     *     ****     *   *       * \n",
      "  *      *   *   *      *   *     *   *   \n",
      "  *      *   *   *      *   *       *     \n",
      "  *      *   *   *      *   *     *   *   \n",
      "    ****     *     ****     *   *       * \n",
      "             *              *             \n",
      "* * * * * * * * * * * * * * * * * * * * * *\n",
      "             *              *             \n",
      "             *              *             \n",
      "             *              *             \n",
      "             *              *             \n",
      "             *              *             \n",
      "             *              *             \n",
      "             *              *             \n",
      "             *              *             \n"
     ]
    }
   ],
   "source": [
    "right = [\"        *\", \"        *\", \"        *\" , \"        *\", \"        *\", \"        *\", \"        *\"]\n",
    "\n",
    "left = [\"*        \", \"*        \", \"*        \",  \"*        \", \"*        \", \"*        \", \"*        \"]\n",
    "\n",
    "horizontal = [\"\"]\n",
    "\n",
    "line = \"* * * * * * * * * * * * * * * * * * * * * *\"\n",
    "\n",
    "centre = [\"            \", \"            \", \"            \", \"            \", \"            \", \"            \", \"            \",  \"            \"]\n",
    "\n",
    "oh = [\"            \", \"    ****    \", \"  *      *  \", \"  *      *  \", \"  *      *  \", \"    ****    \", \"            \"]\n",
    "\n",
    "ex = [\"            \", \"  *       * \", \"    *   *   \", \"      *     \", \"    *   *   \", \"  *       * \", \"            \"]\n",
    "\n",
    "# ex = [\"          \", \" *      * \", \"   *   *  \", \"   *   *  \", \" *      * \", \"          \"]\n",
    "# oh = [\"          \", \"   ****   \", \"  *    *  \", \"  *    *  \", \"   ****   \", \"          \"]\n",
    "\n",
    "\n",
    "vertical = [\"*\", \"*\", \"*\", \"*\", \"*\",\"*\", \"*\", \"*\"]\n",
    "print(len(vertical))\n",
    "# for line in oh:\n",
    "#   print(line)\n",
    "\n",
    "\n",
    "top_positions = [centre, vertical, centre, vertical, centre]\n",
    "\n",
    "# test = list(zip(centre, vertical, oh, vertical, centre))\n",
    "\n",
    "\n",
    "test_2 = list(zip(*top_positions))\n",
    "top_positions[2] = oh\n",
    "top_positions[4] = ex\n",
    "top_positions[0] = oh\n",
    "test_3 = list(zip(*top_positions))\n",
    "\n",
    "for each in test_2:\n",
    "  print(each[0], each[1], each[2], each[3], each[4])\n",
    "print(line)\n",
    "for each in test_3:\n",
    "  print(each[0], each[1], each[2], each[3], each[4])\n",
    "print(line)\n",
    "for each in test_2:\n",
    "  print(each[0], each[1], each[2], each[3], each[4])\n",
    "# exit()\n",
    "\n",
    "\n",
    "# for each in test:\n",
    "#   print(each[0], each[1], each[2], each[3], each[4])\n",
    "\n",
    "# print(line)\n",
    "# test = list(zip(right, oh, left))\n",
    "# for each in test:\n",
    "#   print(each[0], each[1], each[2])\n"
   ]
  },
  {
   "cell_type": "code",
   "execution_count": 4,
   "id": "6a1cee15-9dd0-463f-9fbf-03d4860ae8a8",
   "metadata": {},
   "outputs": [],
   "source": [
    "line = \"* * * * * * * * * * * * * * * * * * * * * *\"\n",
    "    \n",
    "# Each sqaure is 12 spaces wide and 8 spaces long\n",
    "vertical = [\"*\", \"*\", \"*\", \"*\", \"*\", \"*\", \"*\", \"*\"]\n",
    "blank = [\"            \", \"            \", \"            \", \"            \", \"            \", \"            \", \"            \",  \"            \"]\n",
    "oh = [\"            \", \"    ****    \", \"  *      *  \", \"  *      *  \", \"  *      *  \", \"    ****    \", \"            \"]\n",
    "ex = [\"            \", \"  *       * \", \"    *   *   \", \"      *     \", \"    *   *   \", \"  *       * \", \"            \"]\n",
    "    \n",
    "class Board:\n",
    "    \n",
    "    \n",
    "    def __init__(self):\n",
    "        self.top_positions = [blank, vertical, blank, vertical, blank]\n",
    "        self.middle_positions = [blank, vertical, blank, vertical, blank]\n",
    "        self.bottom_positions = [blank, vertical, blank, vertical, blank]\n",
    "        self.positions = [self.top_positions, self.middle_positions, self.bottom_positions]\n",
    "        \n",
    "    def update_square(self, row: int, column: int, marker: int) -> None:\n",
    "        square_value = oh\n",
    "        if marker == 1:\n",
    "            square_value = ex\n",
    "#         print(row, column)\n",
    "#         print(square_value)\n",
    "        column = column * 2\n",
    "        if row == 0:\n",
    "            self.top_positions[column] = square_value\n",
    "        elif row == 1: \n",
    "            self.middle_positions[column] = square_value\n",
    "        else:\n",
    "            self.bottom_positions[column] = square_value\n",
    "        \n",
    "    \n",
    "    def print_line(self, positions):\n",
    "        squares = list(zip(*positions))\n",
    "        for square in squares:\n",
    "            print(square[0], square[1], square[2], square[3], square[4])        \n",
    "    \n",
    "    def print_board(self):\n",
    "        for index, position in enumerate(self.positions):\n",
    "            self.print_line(position)\n",
    "            if index != 2:\n",
    "                print(line)\n",
    "#         self.print_line(self.middle_positions)\n",
    "#         print(line)\n",
    "#         self.print_line(self.bottom_positions)\n",
    "\n",
    "        "
   ]
  },
  {
   "cell_type": "code",
   "execution_count": null,
   "id": "8096a95b-7c81-443f-8f69-3fd99b60efb1",
   "metadata": {},
   "outputs": [],
   "source": [
    "\n",
    "\n",
    "        "
   ]
  },
  {
   "cell_type": "code",
   "execution_count": 23,
   "id": "02c3bbcf-383b-4ea6-8863-69daaf82eae9",
   "metadata": {},
   "outputs": [],
   "source": [
    "# 0 is empty, 1 is ex, and 2 is oh\n",
    "squares = [[0, 0, 0], [0, 0, 0], [0, 0, 0]]\n",
    "\n",
    "\n",
    "def is_free(row, column):\n",
    "    return squares[row][column] == 0\n",
    "#         print(\"Free\")\n",
    "#     else:\n",
    "#         print(\"Occupied\")\n",
    "        \n",
    "def update_square(row: int, column: int, marker: int) -> None:   \n",
    "    squares[row][column] = marker\n",
    "\n",
    "def take_turn(player):  \n",
    "    row, column = enter_square()\n",
    "    \n",
    "    marker = 2\n",
    "    if player == ex:\n",
    "        marker = 1\n",
    "\n",
    "        update_square(row, column, marker)\n",
    "    else:\n",
    "        update_square(row, column, marker)\n",
    "        \n",
    "    return row, column, marker\n",
    "\n",
    "\n",
    "def enter_square():   \n",
    "    while True:  \n",
    "        valid_input = [1, 2, 3]\n",
    "        row = int(input(\"Enter the row: \"))\n",
    "        if row not in valid_input:\n",
    "            print(\"You must enter 1, 2, or 3 only for the row. Start again.\")\n",
    "            continue\n",
    "        column = int(input(\"Enter the column: \"))\n",
    "\n",
    "        if column not in valid_input:\n",
    "            print(\"You must enter 1, 2, or 3 only for the column. Start again\")\n",
    "            continue\n",
    "     \n",
    "        row = row - 1\n",
    "        column = column - 1\n",
    "        \n",
    "        if is_free(row, column):\n",
    "            break\n",
    "        else:\n",
    "            print(\"The square is already occupied. Start again\")\n",
    "    \n",
    "    return row, column        "
   ]
  },
  {
   "cell_type": "code",
   "execution_count": 24,
   "id": "1c4c3057-d487-416d-9755-e1bfae86c416",
   "metadata": {},
   "outputs": [
    {
     "name": "stdin",
     "output_type": "stream",
     "text": [
      "Enter the row:  1\n",
      "Enter the column:  1\n"
     ]
    },
    {
     "name": "stdout",
     "output_type": "stream",
     "text": [
      "             *              *             \n",
      "  *       *  *              *             \n",
      "    *   *    *              *             \n",
      "      *      *              *             \n",
      "    *   *    *              *             \n",
      "  *       *  *              *             \n",
      "             *              *             \n",
      "* * * * * * * * * * * * * * * * * * * * * *\n",
      "             *              *             \n",
      "             *              *             \n",
      "             *              *             \n",
      "             *              *             \n",
      "             *              *             \n",
      "             *              *             \n",
      "             *              *             \n",
      "             *              *             \n",
      "* * * * * * * * * * * * * * * * * * * * * *\n",
      "             *              *             \n",
      "             *              *             \n",
      "             *              *             \n",
      "             *              *             \n",
      "             *              *             \n",
      "             *              *             \n",
      "             *              *             \n",
      "             *              *             \n"
     ]
    },
    {
     "name": "stdin",
     "output_type": "stream",
     "text": [
      "Enter the row:  1\n",
      "Enter the column:  2\n"
     ]
    },
    {
     "name": "stdout",
     "output_type": "stream",
     "text": [
      "             *              *             \n",
      "  *       *  *     ****     *             \n",
      "    *   *    *   *      *   *             \n",
      "      *      *   *      *   *             \n",
      "    *   *    *   *      *   *             \n",
      "  *       *  *     ****     *             \n",
      "             *              *             \n",
      "* * * * * * * * * * * * * * * * * * * * * *\n",
      "             *              *             \n",
      "             *              *             \n",
      "             *              *             \n",
      "             *              *             \n",
      "             *              *             \n",
      "             *              *             \n",
      "             *              *             \n",
      "             *              *             \n",
      "* * * * * * * * * * * * * * * * * * * * * *\n",
      "             *              *             \n",
      "             *              *             \n",
      "             *              *             \n",
      "             *              *             \n",
      "             *              *             \n",
      "             *              *             \n",
      "             *              *             \n",
      "             *              *             \n"
     ]
    },
    {
     "name": "stdin",
     "output_type": "stream",
     "text": [
      "Enter the row:  2\n",
      "Enter the column:  2\n"
     ]
    },
    {
     "name": "stdout",
     "output_type": "stream",
     "text": [
      "             *              *             \n",
      "  *       *  *     ****     *             \n",
      "    *   *    *   *      *   *             \n",
      "      *      *   *      *   *             \n",
      "    *   *    *   *      *   *             \n",
      "  *       *  *     ****     *             \n",
      "             *              *             \n",
      "* * * * * * * * * * * * * * * * * * * * * *\n",
      "             *              *             \n",
      "             *   *       *  *             \n",
      "             *     *   *    *             \n",
      "             *       *      *             \n",
      "             *     *   *    *             \n",
      "             *   *       *  *             \n",
      "             *              *             \n",
      "* * * * * * * * * * * * * * * * * * * * * *\n",
      "             *              *             \n",
      "             *              *             \n",
      "             *              *             \n",
      "             *              *             \n",
      "             *              *             \n",
      "             *              *             \n",
      "             *              *             \n",
      "             *              *             \n"
     ]
    },
    {
     "name": "stdin",
     "output_type": "stream",
     "text": [
      "Enter the row:  2\n",
      "Enter the column:  2\n"
     ]
    },
    {
     "name": "stdout",
     "output_type": "stream",
     "text": [
      "The square is already occupied. Start again\n"
     ]
    },
    {
     "name": "stdin",
     "output_type": "stream",
     "text": [
      "Enter the row:  6\n"
     ]
    },
    {
     "name": "stdout",
     "output_type": "stream",
     "text": [
      "You must enter 1, 2, or 3 only for the row. Start again.\n"
     ]
    },
    {
     "name": "stdin",
     "output_type": "stream",
     "text": [
      "Enter the row:  1\n",
      "Enter the column:  8\n"
     ]
    },
    {
     "name": "stdout",
     "output_type": "stream",
     "text": [
      "You must enter 1, 2, or 3 only for the column. Start again\n"
     ]
    },
    {
     "name": "stdin",
     "output_type": "stream",
     "text": [
      "Enter the row:  3\n",
      "Enter the column:  1\n"
     ]
    },
    {
     "name": "stdout",
     "output_type": "stream",
     "text": [
      "             *              *             \n",
      "  *       *  *     ****     *             \n",
      "    *   *    *   *      *   *             \n",
      "      *      *   *      *   *             \n",
      "    *   *    *   *      *   *             \n",
      "  *       *  *     ****     *             \n",
      "             *              *             \n",
      "* * * * * * * * * * * * * * * * * * * * * *\n",
      "             *              *             \n",
      "             *   *       *  *             \n",
      "             *     *   *    *             \n",
      "             *       *      *             \n",
      "             *     *   *    *             \n",
      "             *   *       *  *             \n",
      "             *              *             \n",
      "* * * * * * * * * * * * * * * * * * * * * *\n",
      "             *              *             \n",
      "    ****     *              *             \n",
      "  *      *   *              *             \n",
      "  *      *   *              *             \n",
      "  *      *   *              *             \n",
      "    ****     *              *             \n",
      "             *              *             \n"
     ]
    }
   ],
   "source": [
    "b = Board()\n",
    "\n",
    "for i in range(4):\n",
    "    if i % 2 == 0:\n",
    "        r, c, m = take_turn(ex)\n",
    "        b.update_square(r, c, m)\n",
    "        b.print_board()\n",
    "    else:\n",
    "        r, c, m = take_turn(oh)\n",
    "        b.update_square(r, c, m)\n",
    "        b.print_board()"
   ]
  },
  {
   "cell_type": "code",
   "execution_count": 14,
   "id": "b7987480-f2a8-4131-9d5f-084821475e28",
   "metadata": {},
   "outputs": [
    {
     "name": "stdin",
     "output_type": "stream",
     "text": [
      "Enter the row:  2\n",
      "Enter the column:  2\n"
     ]
    },
    {
     "name": "stdout",
     "output_type": "stream",
     "text": [
      "             *              *             \n",
      "             *              *             \n",
      "             *              *             \n",
      "             *              *             \n",
      "             *              *             \n",
      "             *              *             \n",
      "             *              *             \n",
      "             *              *             \n",
      "* * * * * * * * * * * * * * * * * * * * * *\n",
      "             *              *             \n",
      "             *     ****     *             \n",
      "             *   *      *   *             \n",
      "             *   *      *   *             \n",
      "             *   *      *   *             \n",
      "             *     ****     *             \n",
      "             *              *             \n",
      "* * * * * * * * * * * * * * * * * * * * * *\n",
      "             *              *             \n",
      "             *              *             \n",
      "             *              *             \n",
      "             *              *             \n",
      "             *              *             \n",
      "             *              *             \n",
      "             *              *             \n",
      "             *              *             \n"
     ]
    }
   ],
   "source": [
    "b = Board()\n",
    "# b.print_board()\n",
    "# b.update_square(2,2,1)\n",
    "# b.print_board()\n",
    "\n",
    "r, c = enter_square()\n",
    "b.update_square(r, c, 0)\n",
    "b.print_board()"
   ]
  },
  {
   "cell_type": "code",
   "execution_count": 55,
   "id": "f50a882c-a95b-45d1-9f3a-4fbdcf243d95",
   "metadata": {},
   "outputs": [
    {
     "name": "stdin",
     "output_type": "stream",
     "text": [
      "Enter the row:  3\n",
      "Enter the column:  3\n"
     ]
    },
    {
     "name": "stdout",
     "output_type": "stream",
     "text": [
      "2 2\n",
      "['            ', '    ****    ', '  *      *  ', '  *      *  ', '  *      *  ', '    ****    ', '            ']\n",
      "             *              *             \n",
      "    ****     *              *             \n",
      "  *      *   *              *             \n",
      "  *      *   *              *             \n",
      "  *      *   *              *             \n",
      "    ****     *              *             \n",
      "             *              *             \n",
      "* * * * * * * * * * * * * * * * * * * * * *\n",
      "             *              *             \n",
      "             *              *             \n",
      "             *              *             \n",
      "             *              *             \n",
      "             *              *             \n",
      "             *              *             \n",
      "             *              *             \n",
      "             *              *             \n",
      "* * * * * * * * * * * * * * * * * * * * * *\n",
      "             *              *             \n",
      "             *              *     ****    \n",
      "             *              *   *      *  \n",
      "             *              *   *      *  \n",
      "             *              *   *      *  \n",
      "             *              *     ****    \n",
      "             *              *             \n"
     ]
    }
   ],
   "source": [
    "r, c = enter_square()\n",
    "b.update_square(r, c, 0)\n",
    "b.print_board()"
   ]
  },
  {
   "cell_type": "code",
   "execution_count": 29,
   "id": "cd70a19f-e2d6-4a01-a865-c6937c35a279",
   "metadata": {},
   "outputs": [
    {
     "name": "stdout",
     "output_type": "stream",
     "text": [
      "             *              *             \n",
      "             *     ****     *             \n",
      "             *   *      *   *             \n",
      "             *   *      *   *             \n",
      "             *   *      *   *             \n",
      "             *     ****     *             \n",
      "             *              *             \n",
      "* * * * * * * * * * * * * * * * * * * * * *\n",
      "             *              *             \n",
      "             *              *             \n",
      "             *              *             \n",
      "             *              *             \n",
      "             *              *             \n",
      "             *              *             \n",
      "             *              *             \n",
      "             *              *             \n",
      "* * * * * * * * * * * * * * * * * * * * * *\n",
      "             *              *             \n",
      "             *              *             \n",
      "             *              *             \n",
      "             *              *             \n",
      "             *              *             \n",
      "             *              *             \n",
      "             *              *             \n",
      "             *              *             \n"
     ]
    }
   ],
   "source": [
    "# b = Board()\n",
    "# b.print_board()\n",
    "# b.update_square(2,2,1)\n",
    "b.print_board()"
   ]
  },
  {
   "cell_type": "code",
   "execution_count": 22,
   "id": "5eb0bbc2-eab6-456f-9c4d-b89125929931",
   "metadata": {},
   "outputs": [
    {
     "name": "stdout",
     "output_type": "stream",
     "text": [
      "[[1, 1, 0], [0, 1, 0], [1, 0, 1]]\n"
     ]
    }
   ],
   "source": [
    "print(squares)"
   ]
  },
  {
   "cell_type": "code",
   "execution_count": null,
   "id": "7d0a2a9e-8bb6-4762-97bf-38b8bdb7b140",
   "metadata": {},
   "outputs": [],
   "source": [
    "    "
   ]
  },
  {
   "cell_type": "code",
   "execution_count": null,
   "id": "550e54e5-861f-42ba-92d1-a8f98666818c",
   "metadata": {},
   "outputs": [],
   "source": []
  },
  {
   "cell_type": "code",
   "execution_count": null,
   "id": "edaba9f6-dce2-4420-823f-224473d8bdf5",
   "metadata": {},
   "outputs": [],
   "source": [
    "len(line)"
   ]
  },
  {
   "cell_type": "code",
   "execution_count": null,
   "id": "ef4923b7-ea1f-4864-afaa-8f2810ed5663",
   "metadata": {},
   "outputs": [],
   "source": [
    "len(blank[0])"
   ]
  },
  {
   "cell_type": "code",
   "execution_count": null,
   "id": "49fe38db-e0ac-4166-b593-88f8a09ca808",
   "metadata": {},
   "outputs": [],
   "source": []
  }
 ],
 "metadata": {
  "kernelspec": {
   "display_name": "the_way",
   "language": "python",
   "name": "the_way"
  },
  "language_info": {
   "codemirror_mode": {
    "name": "ipython",
    "version": 3
   },
   "file_extension": ".py",
   "mimetype": "text/x-python",
   "name": "python",
   "nbconvert_exporter": "python",
   "pygments_lexer": "ipython3",
   "version": "3.7.11"
  }
 },
 "nbformat": 4,
 "nbformat_minor": 5
}
